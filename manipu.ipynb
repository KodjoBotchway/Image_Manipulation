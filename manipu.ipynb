{
  "cells": [
    {
      "cell_type": "code",
      "execution_count": 1,
      "metadata": {
        "id": "_1hJ0ciFGgon"
      },
      "outputs": [],
      "source": [
        "# import necessary packages\n",
        "import numpy as np\n",
        "import matplotlib.pyplot as plt\n",
        "import cv2\n",
        "%matplotlib inline"
      ]
    },
    {
      "cell_type": "code",
      "execution_count": 2,
      "metadata": {
        "id": "MeoxeNK-Ggoq"
      },
      "outputs": [],
      "source": [
        "# read in datafile\n",
        "with open(r\"data\\test.txt\", 'r') as f:\n",
        "    datafile = f.read()"
      ]
    },
    {
      "cell_type": "code",
      "execution_count": 3,
      "metadata": {
        "id": "ojnahAHuGgot"
      },
      "outputs": [
        {
          "data": {
            "text/plain": [
              "True"
            ]
          },
          "execution_count": 3,
          "metadata": {},
          "output_type": "execute_result"
        }
      ],
      "source": [
        "# Image Manipulation\n",
        "img = cv2.imread(r'data\\test.png')\n",
        "for row in range(len(img)):\n",
        "    for col in range(len(img[row])):\n",
        "        pixel = img[row][col]\n",
        "        p = np.linalg.norm(pixel-np.array([255,0,0]))\n",
        "        q = np.linalg.norm(pixel-np.array([0,255,0]))\n",
        "        r = np.linalg.norm(pixel-np.array([0,0,255]))\n",
        "        #print(p)\n",
        "        min_pix = min([p,q,r])\n",
        "        #print(min_pix)\n",
        "        \n",
        "        if min_pix == p:\n",
        "            img[row][col] = p\n",
        "        elif min_pix == q:\n",
        "            img[row][col] = q\n",
        "        elif min_pix == r:\n",
        "            img[row][col] = r\n",
        "\n",
        "cv2.imwrite(r'assets/output1.png',img)\n",
        "\n",
        "# Q2B\n",
        "img = cv2.imread(r'data\\test.png')\n",
        "cv2.rectangle(img, pt1 = (39,89), pt2 = (89,39), color = (0,0,0), thickness = -1)\n",
        "cv2.imwrite(r'assets/output2.png', img)"
      ]
    }
  ],
  "metadata": {
    "colab": {
      "collapsed_sections": [],
      "provenance": []
    },
    "kernelspec": {
      "display_name": "Python 3.10.2 64-bit",
      "language": "python",
      "name": "python3"
    },
    "language_info": {
      "codemirror_mode": {
        "name": "ipython",
        "version": 3
      },
      "file_extension": ".py",
      "mimetype": "text/x-python",
      "name": "python",
      "nbconvert_exporter": "python",
      "pygments_lexer": "ipython3",
      "version": "3.10.7"
    },
    "orig_nbformat": 4,
    "vscode": {
      "interpreter": {
        "hash": "8c536098342e249770475e76571c08326ac21f990e5ca158aeaf10eded2866f0"
      }
    }
  },
  "nbformat": 4,
  "nbformat_minor": 0
}
